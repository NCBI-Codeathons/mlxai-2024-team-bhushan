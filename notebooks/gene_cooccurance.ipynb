{
 "cells": [
  {
   "cell_type": "code",
   "execution_count": 106,
   "id": "b8e8588e",
   "metadata": {},
   "outputs": [],
   "source": [
    "# !pip install pandas"
   ]
  },
  {
   "cell_type": "markdown",
   "id": "927d1321",
   "metadata": {},
   "source": [
    "### Get isolate ids"
   ]
  },
  {
   "cell_type": "code",
   "execution_count": 2,
   "id": "b8876bb2",
   "metadata": {},
   "outputs": [
    {
     "data": {
      "text/html": [
       "<div>\n",
       "<style scoped>\n",
       "    .dataframe tbody tr th:only-of-type {\n",
       "        vertical-align: middle;\n",
       "    }\n",
       "\n",
       "    .dataframe tbody tr th {\n",
       "        vertical-align: top;\n",
       "    }\n",
       "\n",
       "    .dataframe thead th {\n",
       "        text-align: right;\n",
       "    }\n",
       "</style>\n",
       "<table border=\"1\" class=\"dataframe\">\n",
       "  <thead>\n",
       "    <tr style=\"text-align: right;\">\n",
       "      <th></th>\n",
       "      <th>ID</th>\n",
       "      <th>bacteria</th>\n",
       "      <th>isolate</th>\n",
       "      <th>link</th>\n",
       "      <th>Tax ID</th>\n",
       "    </tr>\n",
       "  </thead>\n",
       "  <tbody>\n",
       "    <tr>\n",
       "      <th>0</th>\n",
       "      <td>90</td>\n",
       "      <td>Bacteria;Firmicutes;Clostridia;Clostridiales;L...</td>\n",
       "      <td>NaN</td>\n",
       "      <td>https://www.genome.jp/dbget-bin/www_bfind_sub?...</td>\n",
       "      <td>NaN</td>\n",
       "    </tr>\n",
       "    <tr>\n",
       "      <th>1</th>\n",
       "      <td>90</td>\n",
       "      <td>Bacteria;Firmicutes;Clostridia;Clostridiales;L...</td>\n",
       "      <td>T02583</td>\n",
       "      <td>https://www.genome.jp/entry/gn:T02583</td>\n",
       "      <td>751585.0</td>\n",
       "    </tr>\n",
       "    <tr>\n",
       "      <th>2</th>\n",
       "      <td>90</td>\n",
       "      <td>Bacteria;Firmicutes;Clostridia;Clostridiales;L...</td>\n",
       "      <td>T02584</td>\n",
       "      <td>https://www.genome.jp/entry/gn:T02584</td>\n",
       "      <td>717962.0</td>\n",
       "    </tr>\n",
       "    <tr>\n",
       "      <th>3</th>\n",
       "      <td>90</td>\n",
       "      <td>Bacteria;Firmicutes;Clostridia;Clostridiales;L...</td>\n",
       "      <td>T07118</td>\n",
       "      <td>https://www.genome.jp/entry/gn:T07118</td>\n",
       "      <td>410072.0</td>\n",
       "    </tr>\n",
       "    <tr>\n",
       "      <th>4</th>\n",
       "      <td>90</td>\n",
       "      <td>Bacteria;Firmicutes;Clostridia;Clostridiales;L...</td>\n",
       "      <td>T07943</td>\n",
       "      <td>https://www.genome.jp/entry/gn:T07943</td>\n",
       "      <td>411474.0</td>\n",
       "    </tr>\n",
       "  </tbody>\n",
       "</table>\n",
       "</div>"
      ],
      "text/plain": [
       "   ID                                           bacteria isolate  \\\n",
       "0  90  Bacteria;Firmicutes;Clostridia;Clostridiales;L...     NaN   \n",
       "1  90  Bacteria;Firmicutes;Clostridia;Clostridiales;L...  T02583   \n",
       "2  90  Bacteria;Firmicutes;Clostridia;Clostridiales;L...  T02584   \n",
       "3  90  Bacteria;Firmicutes;Clostridia;Clostridiales;L...  T07118   \n",
       "4  90  Bacteria;Firmicutes;Clostridia;Clostridiales;L...  T07943   \n",
       "\n",
       "                                                link    Tax ID  \n",
       "0  https://www.genome.jp/dbget-bin/www_bfind_sub?...       NaN  \n",
       "1              https://www.genome.jp/entry/gn:T02583  751585.0  \n",
       "2              https://www.genome.jp/entry/gn:T02584  717962.0  \n",
       "3              https://www.genome.jp/entry/gn:T07118  410072.0  \n",
       "4              https://www.genome.jp/entry/gn:T07943  411474.0  "
      ]
     },
     "execution_count": 2,
     "metadata": {},
     "output_type": "execute_result"
    }
   ],
   "source": [
    "import pandas as pd\n",
    "\n",
    "df_idb_bacteria = pd.read_csv(\"../data/bacteria/IDB_interesting_bacteria.csv\")\n",
    "df_idb_bacteria.head()"
   ]
  },
  {
   "cell_type": "code",
   "execution_count": 3,
   "id": "b0dba6a9",
   "metadata": {
    "scrolled": false
   },
   "outputs": [
    {
     "name": "stdout",
     "output_type": "stream",
     "text": [
      "23\n",
      "['T02583', 'T02584', 'T07118', 'T07943', 'T01387', 'T02600', 'T02601', 'T02606', 'T03158', 'T05998', 'T08490', 'T08757', 'T00835', 'T07161', 'T08965', 'T03807', 'T05838', 'T06636', 'T09392', 'T07161', 'T08965', 'T04880', 'T08068']\n"
     ]
    }
   ],
   "source": [
    "# get isolate ids\n",
    "isolate_list = df_idb_bacteria.isolate.dropna().tolist()\n",
    "print(len(isolate_list))\n",
    "print(isolate_list)"
   ]
  },
  {
   "cell_type": "markdown",
   "id": "0bab54bd",
   "metadata": {},
   "source": [
    "### Get mappings kegg geneid - uniprotid"
   ]
  },
  {
   "cell_type": "code",
   "execution_count": 4,
   "id": "9c508cc1",
   "metadata": {},
   "outputs": [],
   "source": [
    "# helper function for spliting api response\n",
    "# cce:Ccel_0001\\nup:B8I3R2\\n\n",
    "# cce:Ccel_0002\\tup:B8I3R3\\n\n",
    "        \n",
    "def split_ids(s):\n",
    "    mappings = {}\n",
    "    lines = s.split(\"\\n\")\n",
    "    for l in lines:\n",
    "        ids = l.split(\"\\t\")\n",
    "        if len(ids) == 2:\n",
    "            mappings[ids[0]] = ids[1][3:]\n",
    "        else:\n",
    "            pass\n",
    "#             print(\"Error:\", ids)\n",
    "    return mappings"
   ]
  },
  {
   "cell_type": "code",
   "execution_count": 6,
   "id": "be6d5661",
   "metadata": {
    "scrolled": false
   },
   "outputs": [
    {
     "name": "stdout",
     "output_type": "stream",
     "text": [
      "https://rest.kegg.jp/conv/uniprot/T02583\n",
      "https://rest.kegg.jp/conv/uniprot/T02584\n",
      "https://rest.kegg.jp/conv/uniprot/T07118\n",
      "https://rest.kegg.jp/conv/uniprot/T07943\n",
      "https://rest.kegg.jp/conv/uniprot/T01387\n",
      "https://rest.kegg.jp/conv/uniprot/T02600\n",
      "https://rest.kegg.jp/conv/uniprot/T02601\n",
      "https://rest.kegg.jp/conv/uniprot/T02606\n",
      "https://rest.kegg.jp/conv/uniprot/T03158\n",
      "https://rest.kegg.jp/conv/uniprot/T05998\n",
      "https://rest.kegg.jp/conv/uniprot/T08490\n",
      "https://rest.kegg.jp/conv/uniprot/T08757\n",
      "https://rest.kegg.jp/conv/uniprot/T00835\n",
      "https://rest.kegg.jp/conv/uniprot/T07161\n",
      "https://rest.kegg.jp/conv/uniprot/T08965\n",
      "https://rest.kegg.jp/conv/uniprot/T03807\n",
      "https://rest.kegg.jp/conv/uniprot/T05838\n",
      "https://rest.kegg.jp/conv/uniprot/T06636\n",
      "https://rest.kegg.jp/conv/uniprot/T09392\n",
      "https://rest.kegg.jp/conv/uniprot/T07161\n",
      "https://rest.kegg.jp/conv/uniprot/T08965\n",
      "https://rest.kegg.jp/conv/uniprot/T04880\n",
      "https://rest.kegg.jp/conv/uniprot/T08068\n",
      "23\n"
     ]
    }
   ],
   "source": [
    "import requests\n",
    "\n",
    "base_id_list = []\n",
    "\n",
    "# Retrieve mapped uniprot ids by isolate & gene\n",
    "for i in isolate_list:    \n",
    "    # URL example: https://rest.kegg.jp/conv/uniprot/T00835\n",
    "    url = 'https://rest.kegg.jp/conv/uniprot/' + i\n",
    "    print(url)\n",
    "    response = requests.get(url)\n",
    "    id_list = split_ids(response.text)\n",
    "    base_id_list.append(id_list)\n",
    "print(len(base_id_list))"
   ]
  },
  {
   "cell_type": "code",
   "execution_count": 11,
   "id": "a77fed87",
   "metadata": {},
   "outputs": [
    {
     "data": {
      "text/plain": [
       "30759"
      ]
     },
     "execution_count": 11,
     "metadata": {},
     "output_type": "execute_result"
    }
   ],
   "source": [
    "# Merge all the geneid - uniprotid lists for filling in spreadsheet\n",
    "\n",
    "def merge_dict(dict1, dict2):\n",
    "    res = dict1 | dict2\n",
    "    return res\n",
    "\n",
    "combined_id_list = base_id_list[0]\n",
    "for i in range(1, len(base_id_list) - 1):\n",
    "    combined_id_list = merge_dict(combined_id_list, base_id_list[i])\n",
    "\n",
    "len(combined_id_list)"
   ]
  },
  {
   "cell_type": "code",
   "execution_count": 12,
   "id": "772c7dad",
   "metadata": {},
   "outputs": [],
   "source": [
    "# Convert API output response to Pandas DataFrame\n",
    "\n",
    "def split_to_pd(s, isolate):\n",
    "    lines = s.split(\"\\n\")\n",
    "    all_lines = [aline.split(\"\\t\") for aline in lines]\n",
    "    df_gene_list = pd.DataFrame(all_lines, columns=['A', 'B', 'C', 'D'])\n",
    "    df_gene_list[\"isolate\"] = isolate\n",
    "    return df_gene_list"
   ]
  },
  {
   "cell_type": "markdown",
   "id": "fd8f262e",
   "metadata": {},
   "source": [
    "### Get a list of genes with isolate id with Kegg REST API"
   ]
  },
  {
   "cell_type": "code",
   "execution_count": 13,
   "id": "7f8d3a13",
   "metadata": {
    "scrolled": true
   },
   "outputs": [
    {
     "name": "stdout",
     "output_type": "stream",
     "text": [
      "https://rest.kegg.jp/list/T02583 <Response [200]>\n",
      "https://rest.kegg.jp/list/T02584 <Response [200]>\n",
      "https://rest.kegg.jp/list/T07118 <Response [200]>\n",
      "https://rest.kegg.jp/list/T07943 <Response [200]>\n",
      "https://rest.kegg.jp/list/T01387 <Response [200]>\n",
      "https://rest.kegg.jp/list/T02600 <Response [200]>\n",
      "https://rest.kegg.jp/list/T02601 <Response [200]>\n",
      "https://rest.kegg.jp/list/T02606 <Response [200]>\n",
      "https://rest.kegg.jp/list/T03158 <Response [200]>\n",
      "https://rest.kegg.jp/list/T05998 <Response [200]>\n",
      "https://rest.kegg.jp/list/T08490 <Response [200]>\n",
      "https://rest.kegg.jp/list/T08757 <Response [200]>\n",
      "https://rest.kegg.jp/list/T00835 <Response [200]>\n",
      "https://rest.kegg.jp/list/T07161 <Response [200]>\n",
      "https://rest.kegg.jp/list/T08965 <Response [200]>\n",
      "https://rest.kegg.jp/list/T03807 <Response [200]>\n",
      "https://rest.kegg.jp/list/T05838 <Response [200]>\n",
      "https://rest.kegg.jp/list/T06636 <Response [200]>\n",
      "https://rest.kegg.jp/list/T09392 <Response [200]>\n",
      "https://rest.kegg.jp/list/T07161 <Response [200]>\n",
      "https://rest.kegg.jp/list/T08965 <Response [200]>\n",
      "https://rest.kegg.jp/list/T04880 <Response [200]>\n",
      "https://rest.kegg.jp/list/T08068 <Response [200]>\n"
     ]
    }
   ],
   "source": [
    "import requests\n",
    "\n",
    "all_genes_list = []\n",
    "\n",
    "# for i in isolate_list[0:2]:\n",
    "for i in isolate_list:\n",
    "    url = 'https://rest.kegg.jp/list/' + i\n",
    "    gene_list = requests.get(url)\n",
    "    print(url, gene_list)\n",
    "    all_genes_list.append(split_to_pd(gene_list.text, i))\n",
    "#print(response_API.status_code)"
   ]
  },
  {
   "cell_type": "code",
   "execution_count": 15,
   "id": "265ed62a",
   "metadata": {
    "scrolled": true
   },
   "outputs": [
    {
     "data": {
      "text/html": [
       "<div>\n",
       "<style scoped>\n",
       "    .dataframe tbody tr th:only-of-type {\n",
       "        vertical-align: middle;\n",
       "    }\n",
       "\n",
       "    .dataframe tbody tr th {\n",
       "        vertical-align: top;\n",
       "    }\n",
       "\n",
       "    .dataframe thead th {\n",
       "        text-align: right;\n",
       "    }\n",
       "</style>\n",
       "<table border=\"1\" class=\"dataframe\">\n",
       "  <thead>\n",
       "    <tr style=\"text-align: right;\">\n",
       "      <th></th>\n",
       "      <th>A</th>\n",
       "      <th>B</th>\n",
       "      <th>C</th>\n",
       "      <th>D</th>\n",
       "      <th>isolate</th>\n",
       "    </tr>\n",
       "  </thead>\n",
       "  <tbody>\n",
       "    <tr>\n",
       "      <th>0</th>\n",
       "      <td>coo:CCU_T_29320</td>\n",
       "      <td>tRNA</td>\n",
       "      <td>60..130</td>\n",
       "      <td>CCU_T_29320</td>\n",
       "      <td>T02583</td>\n",
       "    </tr>\n",
       "    <tr>\n",
       "      <th>1</th>\n",
       "      <td>coo:CCU_00100</td>\n",
       "      <td>CDS</td>\n",
       "      <td>241..318</td>\n",
       "      <td>hypothetical protein</td>\n",
       "      <td>T02583</td>\n",
       "    </tr>\n",
       "    <tr>\n",
       "      <th>2</th>\n",
       "      <td>coo:CCU_00110</td>\n",
       "      <td>CDS</td>\n",
       "      <td>432..1544</td>\n",
       "      <td>DNA repair exonuclease</td>\n",
       "      <td>T02583</td>\n",
       "    </tr>\n",
       "    <tr>\n",
       "      <th>3</th>\n",
       "      <td>coo:CCU_00120</td>\n",
       "      <td>CDS</td>\n",
       "      <td>1547..3220</td>\n",
       "      <td>hypothetical protein</td>\n",
       "      <td>T02583</td>\n",
       "    </tr>\n",
       "    <tr>\n",
       "      <th>4</th>\n",
       "      <td>coo:CCU_00140</td>\n",
       "      <td>CDS</td>\n",
       "      <td>5775..5873</td>\n",
       "      <td>hypothetical protein</td>\n",
       "      <td>T02583</td>\n",
       "    </tr>\n",
       "  </tbody>\n",
       "</table>\n",
       "</div>"
      ],
      "text/plain": [
       "                 A     B           C                       D isolate\n",
       "0  coo:CCU_T_29320  tRNA     60..130             CCU_T_29320  T02583\n",
       "1    coo:CCU_00100   CDS    241..318    hypothetical protein  T02583\n",
       "2    coo:CCU_00110   CDS   432..1544  DNA repair exonuclease  T02583\n",
       "3    coo:CCU_00120   CDS  1547..3220    hypothetical protein  T02583\n",
       "4    coo:CCU_00140   CDS  5775..5873    hypothetical protein  T02583"
      ]
     },
     "execution_count": 15,
     "metadata": {},
     "output_type": "execute_result"
    }
   ],
   "source": [
    "all_genes_list[0].head()"
   ]
  },
  {
   "cell_type": "code",
   "execution_count": 16,
   "id": "a940817d",
   "metadata": {
    "scrolled": true
   },
   "outputs": [
    {
     "data": {
      "text/html": [
       "<div>\n",
       "<style scoped>\n",
       "    .dataframe tbody tr th:only-of-type {\n",
       "        vertical-align: middle;\n",
       "    }\n",
       "\n",
       "    .dataframe tbody tr th {\n",
       "        vertical-align: top;\n",
       "    }\n",
       "\n",
       "    .dataframe thead th {\n",
       "        text-align: right;\n",
       "    }\n",
       "</style>\n",
       "<table border=\"1\" class=\"dataframe\">\n",
       "  <thead>\n",
       "    <tr style=\"text-align: right;\">\n",
       "      <th></th>\n",
       "      <th>A</th>\n",
       "      <th>B</th>\n",
       "      <th>C</th>\n",
       "      <th>D</th>\n",
       "      <th>isolate</th>\n",
       "      <th>uniprod_id</th>\n",
       "    </tr>\n",
       "  </thead>\n",
       "  <tbody>\n",
       "    <tr>\n",
       "      <th>0</th>\n",
       "      <td>coo:CCU_T_29320</td>\n",
       "      <td>tRNA</td>\n",
       "      <td>60..130</td>\n",
       "      <td>CCU_T_29320</td>\n",
       "      <td>T02583</td>\n",
       "      <td></td>\n",
       "    </tr>\n",
       "    <tr>\n",
       "      <th>1</th>\n",
       "      <td>coo:CCU_00100</td>\n",
       "      <td>CDS</td>\n",
       "      <td>241..318</td>\n",
       "      <td>hypothetical protein</td>\n",
       "      <td>T02583</td>\n",
       "      <td></td>\n",
       "    </tr>\n",
       "    <tr>\n",
       "      <th>2</th>\n",
       "      <td>coo:CCU_00110</td>\n",
       "      <td>CDS</td>\n",
       "      <td>432..1544</td>\n",
       "      <td>DNA repair exonuclease</td>\n",
       "      <td>T02583</td>\n",
       "      <td></td>\n",
       "    </tr>\n",
       "    <tr>\n",
       "      <th>3</th>\n",
       "      <td>coo:CCU_00120</td>\n",
       "      <td>CDS</td>\n",
       "      <td>1547..3220</td>\n",
       "      <td>hypothetical protein</td>\n",
       "      <td>T02583</td>\n",
       "      <td></td>\n",
       "    </tr>\n",
       "    <tr>\n",
       "      <th>4</th>\n",
       "      <td>coo:CCU_00140</td>\n",
       "      <td>CDS</td>\n",
       "      <td>5775..5873</td>\n",
       "      <td>hypothetical protein</td>\n",
       "      <td>T02583</td>\n",
       "      <td></td>\n",
       "    </tr>\n",
       "  </tbody>\n",
       "</table>\n",
       "</div>"
      ],
      "text/plain": [
       "                 A     B           C                       D isolate  \\\n",
       "0  coo:CCU_T_29320  tRNA     60..130             CCU_T_29320  T02583   \n",
       "1    coo:CCU_00100   CDS    241..318    hypothetical protein  T02583   \n",
       "2    coo:CCU_00110   CDS   432..1544  DNA repair exonuclease  T02583   \n",
       "3    coo:CCU_00120   CDS  1547..3220    hypothetical protein  T02583   \n",
       "4    coo:CCU_00140   CDS  5775..5873    hypothetical protein  T02583   \n",
       "\n",
       "  uniprod_id  \n",
       "0             \n",
       "1             \n",
       "2             \n",
       "3             \n",
       "4             "
      ]
     },
     "execution_count": 16,
     "metadata": {},
     "output_type": "execute_result"
    }
   ],
   "source": [
    "# Combine all the genes list\n",
    "all_genes_df = pd.concat(all_genes_list, axis=0)\n",
    "# set an empty column for uniprod_id\n",
    "all_genes_df[\"uniprod_id\"] = \"\"\n",
    "all_genes_df.head()"
   ]
  },
  {
   "cell_type": "code",
   "execution_count": 17,
   "id": "7d4783aa",
   "metadata": {},
   "outputs": [],
   "source": [
    "# Fill in uniprod_id column referencing combined_id_list\n",
    "for ind, row in all_genes_df.iterrows():\n",
    "    row[\"uniprod_id\"] = combined_id_list.get(row[\"A\"])"
   ]
  },
  {
   "cell_type": "code",
   "execution_count": 18,
   "id": "33f47509",
   "metadata": {
    "scrolled": false
   },
   "outputs": [
    {
     "data": {
      "text/html": [
       "<div>\n",
       "<style scoped>\n",
       "    .dataframe tbody tr th:only-of-type {\n",
       "        vertical-align: middle;\n",
       "    }\n",
       "\n",
       "    .dataframe tbody tr th {\n",
       "        vertical-align: top;\n",
       "    }\n",
       "\n",
       "    .dataframe thead th {\n",
       "        text-align: right;\n",
       "    }\n",
       "</style>\n",
       "<table border=\"1\" class=\"dataframe\">\n",
       "  <thead>\n",
       "    <tr style=\"text-align: right;\">\n",
       "      <th></th>\n",
       "      <th>A</th>\n",
       "      <th>B</th>\n",
       "      <th>C</th>\n",
       "      <th>D</th>\n",
       "      <th>isolate</th>\n",
       "      <th>uniprod_id</th>\n",
       "    </tr>\n",
       "  </thead>\n",
       "  <tbody>\n",
       "    <tr>\n",
       "      <th>0</th>\n",
       "      <td>coo:CCU_T_29320</td>\n",
       "      <td>tRNA</td>\n",
       "      <td>60..130</td>\n",
       "      <td>CCU_T_29320</td>\n",
       "      <td>T02583</td>\n",
       "      <td>None</td>\n",
       "    </tr>\n",
       "    <tr>\n",
       "      <th>1</th>\n",
       "      <td>coo:CCU_00100</td>\n",
       "      <td>CDS</td>\n",
       "      <td>241..318</td>\n",
       "      <td>hypothetical protein</td>\n",
       "      <td>T02583</td>\n",
       "      <td>D5HGS1</td>\n",
       "    </tr>\n",
       "    <tr>\n",
       "      <th>2</th>\n",
       "      <td>coo:CCU_00110</td>\n",
       "      <td>CDS</td>\n",
       "      <td>432..1544</td>\n",
       "      <td>DNA repair exonuclease</td>\n",
       "      <td>T02583</td>\n",
       "      <td>D5HGS2</td>\n",
       "    </tr>\n",
       "    <tr>\n",
       "      <th>3</th>\n",
       "      <td>coo:CCU_00120</td>\n",
       "      <td>CDS</td>\n",
       "      <td>1547..3220</td>\n",
       "      <td>hypothetical protein</td>\n",
       "      <td>T02583</td>\n",
       "      <td>D5HGS3</td>\n",
       "    </tr>\n",
       "    <tr>\n",
       "      <th>4</th>\n",
       "      <td>coo:CCU_00140</td>\n",
       "      <td>CDS</td>\n",
       "      <td>5775..5873</td>\n",
       "      <td>hypothetical protein</td>\n",
       "      <td>T02583</td>\n",
       "      <td>D5HGS4</td>\n",
       "    </tr>\n",
       "    <tr>\n",
       "      <th>5</th>\n",
       "      <td>coo:CCU_00150</td>\n",
       "      <td>CDS</td>\n",
       "      <td>complement(5914..7851)</td>\n",
       "      <td>ATPase components of ABC transporters with dup...</td>\n",
       "      <td>T02583</td>\n",
       "      <td>D5HGS5</td>\n",
       "    </tr>\n",
       "    <tr>\n",
       "      <th>6</th>\n",
       "      <td>coo:CCU_00160</td>\n",
       "      <td>CDS</td>\n",
       "      <td>8090..9886</td>\n",
       "      <td>Uncharacterized protein conserved in bacteria</td>\n",
       "      <td>T02583</td>\n",
       "      <td>D5HGS6</td>\n",
       "    </tr>\n",
       "    <tr>\n",
       "      <th>7</th>\n",
       "      <td>coo:CCU_00170</td>\n",
       "      <td>CDS</td>\n",
       "      <td>9905..10954</td>\n",
       "      <td>Membrane-associated lipoprotein involved in th...</td>\n",
       "      <td>T02583</td>\n",
       "      <td>D5HGS7</td>\n",
       "    </tr>\n",
       "    <tr>\n",
       "      <th>8</th>\n",
       "      <td>coo:CCU_00180</td>\n",
       "      <td>CDS</td>\n",
       "      <td>10964..11332</td>\n",
       "      <td>Uncharacterized protein conserved in bacteria</td>\n",
       "      <td>T02583</td>\n",
       "      <td>D5HGS8</td>\n",
       "    </tr>\n",
       "    <tr>\n",
       "      <th>9</th>\n",
       "      <td>coo:CCU_00190</td>\n",
       "      <td>CDS</td>\n",
       "      <td>11322..11879</td>\n",
       "      <td>Predicted membrane protein</td>\n",
       "      <td>T02583</td>\n",
       "      <td>D5HGS9</td>\n",
       "    </tr>\n",
       "  </tbody>\n",
       "</table>\n",
       "</div>"
      ],
      "text/plain": [
       "                 A     B                       C  \\\n",
       "0  coo:CCU_T_29320  tRNA                 60..130   \n",
       "1    coo:CCU_00100   CDS                241..318   \n",
       "2    coo:CCU_00110   CDS               432..1544   \n",
       "3    coo:CCU_00120   CDS              1547..3220   \n",
       "4    coo:CCU_00140   CDS              5775..5873   \n",
       "5    coo:CCU_00150   CDS  complement(5914..7851)   \n",
       "6    coo:CCU_00160   CDS              8090..9886   \n",
       "7    coo:CCU_00170   CDS             9905..10954   \n",
       "8    coo:CCU_00180   CDS            10964..11332   \n",
       "9    coo:CCU_00190   CDS            11322..11879   \n",
       "\n",
       "                                                   D isolate uniprod_id  \n",
       "0                                        CCU_T_29320  T02583       None  \n",
       "1                               hypothetical protein  T02583     D5HGS1  \n",
       "2                             DNA repair exonuclease  T02583     D5HGS2  \n",
       "3                               hypothetical protein  T02583     D5HGS3  \n",
       "4                               hypothetical protein  T02583     D5HGS4  \n",
       "5  ATPase components of ABC transporters with dup...  T02583     D5HGS5  \n",
       "6      Uncharacterized protein conserved in bacteria  T02583     D5HGS6  \n",
       "7  Membrane-associated lipoprotein involved in th...  T02583     D5HGS7  \n",
       "8      Uncharacterized protein conserved in bacteria  T02583     D5HGS8  \n",
       "9                         Predicted membrane protein  T02583     D5HGS9  "
      ]
     },
     "execution_count": 18,
     "metadata": {},
     "output_type": "execute_result"
    }
   ],
   "source": [
    "all_genes_df.head(10)"
   ]
  },
  {
   "cell_type": "code",
   "execution_count": 19,
   "id": "3f876ddd",
   "metadata": {},
   "outputs": [],
   "source": [
    "all_genes_df.to_csv(\"../data/gene_id_with_uniprodid.csv\", index=False)"
   ]
  },
  {
   "cell_type": "code",
   "execution_count": 20,
   "id": "95009810",
   "metadata": {},
   "outputs": [],
   "source": [
    "all_genes_df.uniprod_id.to_csv(\"../data/uniprotid.csv\", index=False)"
   ]
  },
  {
   "cell_type": "code",
   "execution_count": 21,
   "id": "ab0c23ae",
   "metadata": {},
   "outputs": [
    {
     "data": {
      "text/plain": [
       "67319"
      ]
     },
     "execution_count": 21,
     "metadata": {},
     "output_type": "execute_result"
    }
   ],
   "source": [
    "len(list(all_genes_df.A))"
   ]
  },
  {
   "cell_type": "code",
   "execution_count": 22,
   "id": "ba780d69",
   "metadata": {
    "scrolled": true
   },
   "outputs": [
    {
     "data": {
      "text/plain": [
       "58987"
      ]
     },
     "execution_count": 22,
     "metadata": {},
     "output_type": "execute_result"
    }
   ],
   "source": [
    "len(list(set(list(all_genes_df.A))))"
   ]
  },
  {
   "cell_type": "code",
   "execution_count": null,
   "id": "fc48a8aa",
   "metadata": {},
   "outputs": [],
   "source": []
  },
  {
   "cell_type": "code",
   "execution_count": null,
   "id": "6586df35",
   "metadata": {},
   "outputs": [],
   "source": []
  },
  {
   "cell_type": "code",
   "execution_count": null,
   "id": "4f2ae9ed",
   "metadata": {},
   "outputs": [],
   "source": []
  },
  {
   "cell_type": "code",
   "execution_count": null,
   "id": "d77f3134",
   "metadata": {},
   "outputs": [],
   "source": []
  },
  {
   "cell_type": "code",
   "execution_count": null,
   "id": "6a6cc266",
   "metadata": {},
   "outputs": [],
   "source": []
  },
  {
   "cell_type": "code",
   "execution_count": null,
   "id": "764b4d95",
   "metadata": {},
   "outputs": [],
   "source": []
  },
  {
   "cell_type": "code",
   "execution_count": null,
   "id": "faa4c1ab",
   "metadata": {},
   "outputs": [],
   "source": []
  },
  {
   "cell_type": "code",
   "execution_count": null,
   "id": "16026514",
   "metadata": {},
   "outputs": [],
   "source": []
  },
  {
   "cell_type": "code",
   "execution_count": null,
   "id": "266cf58a",
   "metadata": {},
   "outputs": [],
   "source": []
  },
  {
   "cell_type": "code",
   "execution_count": null,
   "id": "242a921e",
   "metadata": {},
   "outputs": [],
   "source": []
  },
  {
   "cell_type": "code",
   "execution_count": null,
   "id": "7ade7a97",
   "metadata": {},
   "outputs": [],
   "source": []
  },
  {
   "cell_type": "code",
   "execution_count": null,
   "id": "41a49705",
   "metadata": {},
   "outputs": [],
   "source": []
  },
  {
   "cell_type": "code",
   "execution_count": 8,
   "id": "f68d1947",
   "metadata": {},
   "outputs": [],
   "source": [
    "def find_intersect(data_1, data_2):\n",
    "    intersect = list(set(data_1) & set(data_2))\n",
    "    return intersect\n",
    "\n",
    "def find_union(data_1, data_2):\n",
    "    union = list(set(data_1) | set(data_2))\n",
    "    return union"
   ]
  },
  {
   "cell_type": "code",
   "execution_count": 9,
   "id": "8d64f6b2",
   "metadata": {},
   "outputs": [
    {
     "data": {
      "text/plain": [
       "11690"
      ]
     },
     "execution_count": 9,
     "metadata": {},
     "output_type": "execute_result"
    }
   ],
   "source": [
    "base = list()\n",
    "for i in range(len(all_genes_list)):\n",
    "    base = find_union(base, all_genes_list[i].D.tolist())\n",
    "len(base)"
   ]
  },
  {
   "cell_type": "code",
   "execution_count": 11,
   "id": "f261e939",
   "metadata": {
    "scrolled": true
   },
   "outputs": [
    {
     "name": "stdout",
     "output_type": "stream",
     "text": [
      "['dephospho-CoA kinase', 'UDP-N-acetylmuramoyl-tripeptide--D-alanyl-D-alanine ligase', 'methylglyoxal synthase', 'shikimate dehydrogenase', 'argininosuccinate synthase', 'peptide deformylase', 'transcriptional regulator', 'adenine phosphoribosyltransferase', 'acetylglutamate kinase', 'anti-sigma F factor', 'trigger factor', 'amidophosphoribosyltransferase', 'glutamate-5-semialdehyde dehydrogenase', \"deoxyuridine 5'-triphosphate nucleotidohydrolase\", 'DNA gyrase subunit B', 'ACT domain-containing protein', 'methionine adenosyltransferase', 'guanylate kinase', 'hypothetical protein', None, 'thioredoxin', 'D-tyrosyl-tRNA(Tyr) deacylase', 'CTP synthase', 'N-acetylmuramoyl-L-alanine amidase', 'SAM-dependent methyltransferase', 'dihydroxy-acid dehydratase', '2,3-bisphosphoglycerate-independent phosphoglycerate mutase', 'UDP-N-acetylmuramate--L-alanine ligase', 'adenylosuccinate lyase', 'cysteine desulfurase', 'threonine synthase', 'glucose-6-phosphate isomerase', '6,7-dimethyl-8-ribityllumazine synthase', 'UDP-N-acetylglucosamine 1-carboxyvinyltransferase', 'serine hydroxymethyltransferase', 'ribose-phosphate pyrophosphokinase', '6-phosphofructokinase', 'phosphoglucosamine mutase', 'ammonium transporter', '1-deoxy-D-xylulose-5-phosphate synthase', 'adenylosuccinate synthase', 'phosphoribosylformylglycinamidine synthase', 'prolipoprotein diacylglyceryl transferase', 'D-alanyl-D-alanine carboxypeptidase']\n",
      "1 2 44\n",
      "['UDP-N-acetylmuramoyl-tripeptide--D-alanyl-D-alanine ligase', 'methylglyoxal synthase', 'argininosuccinate synthase', 'peptide deformylase', 'transcriptional regulator', 'adenine phosphoribosyltransferase', 'amidophosphoribosyltransferase', 'glutamate-5-semialdehyde dehydrogenase', 'DNA gyrase subunit B', 'ACT domain-containing protein', 'SAM-dependent methyltransferase', 'hypothetical protein', None, 'thioredoxin', 'CTP synthase', 'N-acetylmuramoyl-L-alanine amidase', 'cysteine desulfurase', 'glucose-6-phosphate isomerase', 'UDP-N-acetylglucosamine 1-carboxyvinyltransferase', 'serine hydroxymethyltransferase', 'ribose-phosphate pyrophosphokinase', '6-phosphofructokinase', 'ammonium transporter', '1-deoxy-D-xylulose-5-phosphate synthase', 'adenylosuccinate synthase', 'phosphoribosylformylglycinamidine synthase', 'D-alanyl-D-alanine carboxypeptidase']\n",
      "2 3 27\n",
      "['amidophosphoribosyltransferase', '6-phosphofructokinase', 'hypothetical protein', 'ammonium transporter', 'methylglyoxal synthase', 'ACT domain-containing protein', 'phosphoribosylformylglycinamidine synthase', 'argininosuccinate synthase', 'peptide deformylase', 'ribose-phosphate pyrophosphokinase', 'UDP-N-acetylglucosamine 1-carboxyvinyltransferase', 'SAM-dependent methyltransferase', None, 'thioredoxin', 'CTP synthase']\n",
      "3 4 15\n",
      "['amidophosphoribosyltransferase', '6-phosphofructokinase', 'ammonium transporter', 'methylglyoxal synthase', 'ACT domain-containing protein', 'phosphoribosylformylglycinamidine synthase', 'argininosuccinate synthase', 'peptide deformylase', 'ribose-phosphate pyrophosphokinase', 'UDP-N-acetylglucosamine 1-carboxyvinyltransferase', 'hypothetical protein', None, 'thioredoxin', 'CTP synthase']\n",
      "4 5 14\n",
      "['amidophosphoribosyltransferase', '6-phosphofructokinase', 'ammonium transporter', 'ACT domain-containing protein', 'phosphoribosylformylglycinamidine synthase', 'argininosuccinate synthase', 'peptide deformylase', 'ribose-phosphate pyrophosphokinase', 'UDP-N-acetylglucosamine 1-carboxyvinyltransferase', 'hypothetical protein', None, 'thioredoxin', 'CTP synthase']\n",
      "5 6 13\n",
      "['amidophosphoribosyltransferase', '6-phosphofructokinase', 'ammonium transporter', 'ACT domain-containing protein', 'phosphoribosylformylglycinamidine synthase', 'argininosuccinate synthase', 'peptide deformylase', 'ribose-phosphate pyrophosphokinase', 'UDP-N-acetylglucosamine 1-carboxyvinyltransferase', 'hypothetical protein', None, 'thioredoxin', 'CTP synthase']\n",
      "6 7 13\n",
      "['hypothetical protein', None]\n",
      "7 8 2\n",
      "['hypothetical protein', None]\n",
      "8 9 2\n",
      "['hypothetical protein', None]\n",
      "9 10 2\n",
      "['hypothetical protein', None]\n",
      "10 11 2\n",
      "['hypothetical protein', None]\n",
      "11 12 2\n",
      "['hypothetical protein', None]\n",
      "12 13 2\n",
      "['hypothetical protein', None]\n",
      "13 14 2\n",
      "['hypothetical protein', None]\n",
      "14 15 2\n",
      "[None]\n",
      "15 16 1\n",
      "[None]\n",
      "16 17 1\n",
      "[None]\n",
      "17 18 1\n",
      "[None]\n",
      "18 19 1\n",
      "[None]\n",
      "19 20 1\n",
      "[None]\n",
      "20 21 1\n",
      "[None]\n",
      "21 22 1\n"
     ]
    }
   ],
   "source": [
    "base = all_genes_list[0].D.tolist()\n",
    "\n",
    "for i in range(1, len(all_genes_list) -1):\n",
    "    temp_intersection = find_intersect(all_genes_list[i].D.tolist(), all_genes_list[i+1].D.tolist())\n",
    "\n",
    "    #     print(temp_intersection)\n",
    "    base = find_intersect(base, temp_intersection)\n",
    "    print(base)\n",
    "\n",
    "    print(i, i+1, len(base))"
   ]
  },
  {
   "cell_type": "code",
   "execution_count": null,
   "id": "29c107f1",
   "metadata": {},
   "outputs": [],
   "source": []
  },
  {
   "cell_type": "code",
   "execution_count": null,
   "id": "181396f6",
   "metadata": {},
   "outputs": [],
   "source": []
  },
  {
   "cell_type": "code",
   "execution_count": 18,
   "id": "31003fac",
   "metadata": {
    "scrolled": true
   },
   "outputs": [
    {
     "data": {
      "text/plain": [
       "[\"['uxuA YPK_2778' 'uxuA Tola_2884' nan]\",\n",
       " \"['gap gapC CA_C0709' 'gapA gap MG301' nan]\",\n",
       " \"['aroE YE3884' 'aroE EcSMS35_3577' nan]\",\n",
       " \"['glpK LCA_0649' 'glpK BcerKBAB4_0948' nan]\",\n",
       " \"['FAEPRAA2165_01342' 'CRH10_03100' nan]\",\n",
       " \"['ppaC BAA_2888' 'ppaC BPUM_3708' nan]\",\n",
       " \"['nusA c3926' 'nusA Z4530 ECs4050' nan]\",\n",
       " \"['astD EcE24377A_1968' 'astD CPS_0634' nan]\",\n",
       " \"['trhP1 yrrO BSU27340' 'SAMN05878482_101721' nan]\",\n",
       " \"['pgcA gtaC gtaE yhxB BSU09310' 'SC09_Contig19orf00130' nan]\",\n",
       " \"['SAMN02799616_04514' 'DN390_09215' nan]\",\n",
       " \"['pntA b1603 JW1595' 'A1U5_01956' nan]\",\n",
       " \"['fklB VME_16270' 'fklB XSR1_90091' nan]\",\n",
       " \"['atpD BMA10229_A1587' 'atpD Bcep1808_0115' nan]\",\n",
       " \"['metE BCB4264_A4108' 'metE BCAH820_4021' nan]\",\n",
       " \"['gltX Xfasm12_2028' 'gltX YPDSF_2092' nan]\",\n",
       " \"['KS08_01620' 'D9V42_07860' nan]\",\n",
       " \"['eno SUB0655' 'eno EAT1b_0860' nan]\",\n",
       " \"['fib efb MW1040' 'fib efb SAS1091' nan]\",\n",
       " \"['AT03_04030' 'alcB YPH_3898' nan]\",\n",
       " \"['clpB BC_1168' 'clpB CPE1428' nan]\",\n",
       " \"['HV084_25475' 'HV269_27150' nan]\",\n",
       " \"['uvrC Shew_1825' 'uvrC ECIAI39_1142' nan]\",\n",
       " \"['gap gapA plr M6_Spy0265' 'gapA1 gap gapA SACOL0838' nan]\",\n",
       " \"['rlmN ECUMN_2837' 'rlmN Csal_2851' nan]\",\n",
       " \"['yjgR b4263 JW4220' 'EcE24377A_4836' nan]\",\n",
       " \"['nrdB STM2278' 'nrdB BUsg_172' nan]\",\n",
       " \"['CQA85_03380' 'FEZ36_06495' nan]\",\n",
       " \"['rpoN glnF ntrA STM3320' 'rpoN ntrA' nan]\",\n",
       " \"['eno Psyc_1636' 'eno BAD_0645' nan]\",\n",
       " \"['DOL88_03480' 'DPV99_00370' nan]\",\n",
       " \"['secA Rmag_0013' 'secA YPO0564 y3617 YP_3620' nan]\",\n",
       " \"['groL4 groEL4 BBta_5285' 'groL4 groEL4 RA0395 SMa0744' nan]\"]"
      ]
     },
     "execution_count": 18,
     "metadata": {},
     "output_type": "execute_result"
    }
   ],
   "source": [
    "import pandas\n",
    "\n",
    "df = pd.read_csv('../data/bacteria/13059_2022_2643_MOESM7_ESM.csv')\n",
    "bac_genes = df.bacterial_gene_names\n",
    "bac_genes = list(set(bac_genes))\n",
    "bac_genes"
   ]
  },
  {
   "cell_type": "code",
   "execution_count": 40,
   "id": "a4f01368",
   "metadata": {
    "scrolled": true
   },
   "outputs": [
    {
     "name": "stdout",
     "output_type": "stream",
     "text": [
      "66 ['astD EcE24377A_1968', 'rpoN glnF ntrA STM3320', 'pgcA gtaC gtaE yhxB BSU09310', 'clpB CPE1428', 'SC09_Contig19orf00130', 'nrdB BUsg_172', 'CRH10_03100', 'glpK BcerKBAB4_0948', 'A1U5_01956', 'nrdB STM2278', 'FEZ36_06495', 'fklB VME_16270', 'groL4 groEL4 RA0395 SMa0744', 'DPV99_00370', 'nusA Z4530 ECs4050', 'fib efb SAS1091', 'SAMN05878482_101721', 'fib efb MW1040', 'alcB YPH_3898', 'rlmN ECUMN_2837', 'astD CPS_0634', 'clpB BC_1168', 'eno SUB0655', 'AT03_04030', 'metE BCAH820_4021', 'uxuA Tola_2884', 'gap gapC CA_C0709', 'nusA c3926', 'metE BCB4264_A4108', 'gltX Xfasm12_2028', 'HV084_25475', 'uvrC Shew_1825', 'DOL88_03480', 'SAMN02799616_04514', 'groL4 groEL4 BBta_5285', 'HV269_27150', 'ppaC BPUM_3708', 'uxuA YPK_2778', 'atpD Bcep1808_0115', 'secA Rmag_0013', 'CQA85_03380', 'ppaC BAA_2888', 'pntA b1603 JW1595', 'D9V42_07860', 'rpoN ntrA', 'eno Psyc_1636', 'uvrC ECIAI39_1142', 'gapA gap MG301', 'DN390_09215', 'trhP1 yrrO BSU27340', 'KS08_01620', 'FAEPRAA2165_01342', 'aroE YE3884', 'eno BAD_0645', 'eno EAT1b_0860', 'yjgR b4263 JW4220', 'gapA1 gap gapA SACOL0838', 'gltX YPDSF_2092', 'fklB XSR1_90091', 'rlmN Csal_2851', 'gap gapA plr M6_Spy0265', 'atpD BMA10229_A1587', 'glpK LCA_0649', 'EcE24377A_4836', 'aroE EcSMS35_3577', 'secA YPO0564 y3617 YP_3620']\n"
     ]
    }
   ],
   "source": [
    "base_list = []\n",
    "for bac in bac_genes:\n",
    "    s = bac.strip('[]')[1:-5]\n",
    "    base_list = base_list + s.split(\"' '\")\n",
    "    base_list = list(set(base_list))\n",
    "\n",
    "    print(len(base_list), base_list) "
   ]
  },
  {
   "cell_type": "code",
   "execution_count": 41,
   "id": "0d8c1317",
   "metadata": {
    "collapsed": true
   },
   "outputs": [
    {
     "data": {
      "text/plain": [
       "['astD EcE24377A_1968',\n",
       " 'rpoN glnF ntrA STM3320',\n",
       " 'pgcA gtaC gtaE yhxB BSU09310',\n",
       " 'clpB CPE1428',\n",
       " 'SC09_Contig19orf00130',\n",
       " 'nrdB BUsg_172',\n",
       " 'CRH10_03100',\n",
       " 'glpK BcerKBAB4_0948',\n",
       " 'A1U5_01956',\n",
       " 'nrdB STM2278',\n",
       " 'FEZ36_06495',\n",
       " 'fklB VME_16270',\n",
       " 'groL4 groEL4 RA0395 SMa0744',\n",
       " 'DPV99_00370',\n",
       " 'nusA Z4530 ECs4050',\n",
       " 'fib efb SAS1091',\n",
       " 'SAMN05878482_101721',\n",
       " 'fib efb MW1040',\n",
       " 'alcB YPH_3898',\n",
       " 'rlmN ECUMN_2837',\n",
       " 'astD CPS_0634',\n",
       " 'clpB BC_1168',\n",
       " 'eno SUB0655',\n",
       " 'AT03_04030',\n",
       " 'metE BCAH820_4021',\n",
       " 'uxuA Tola_2884',\n",
       " 'gap gapC CA_C0709',\n",
       " 'nusA c3926',\n",
       " 'metE BCB4264_A4108',\n",
       " 'gltX Xfasm12_2028',\n",
       " 'HV084_25475',\n",
       " 'uvrC Shew_1825',\n",
       " 'DOL88_03480',\n",
       " 'SAMN02799616_04514',\n",
       " 'groL4 groEL4 BBta_5285',\n",
       " 'HV269_27150',\n",
       " 'ppaC BPUM_3708',\n",
       " 'uxuA YPK_2778',\n",
       " 'atpD Bcep1808_0115',\n",
       " 'secA Rmag_0013',\n",
       " 'CQA85_03380',\n",
       " 'ppaC BAA_2888',\n",
       " 'pntA b1603 JW1595',\n",
       " 'D9V42_07860',\n",
       " 'rpoN ntrA',\n",
       " 'eno Psyc_1636',\n",
       " 'uvrC ECIAI39_1142',\n",
       " 'gapA gap MG301',\n",
       " 'DN390_09215',\n",
       " 'trhP1 yrrO BSU27340',\n",
       " 'KS08_01620',\n",
       " 'FAEPRAA2165_01342',\n",
       " 'aroE YE3884',\n",
       " 'eno BAD_0645',\n",
       " 'eno EAT1b_0860',\n",
       " 'yjgR b4263 JW4220',\n",
       " 'gapA1 gap gapA SACOL0838',\n",
       " 'gltX YPDSF_2092',\n",
       " 'fklB XSR1_90091',\n",
       " 'rlmN Csal_2851',\n",
       " 'gap gapA plr M6_Spy0265',\n",
       " 'atpD BMA10229_A1587',\n",
       " 'glpK LCA_0649',\n",
       " 'EcE24377A_4836',\n",
       " 'aroE EcSMS35_3577',\n",
       " 'secA YPO0564 y3617 YP_3620']"
      ]
     },
     "execution_count": 41,
     "metadata": {},
     "output_type": "execute_result"
    }
   ],
   "source": [
    "base_list"
   ]
  }
 ],
 "metadata": {
  "kernelspec": {
   "display_name": "Python 3 (ipykernel)",
   "language": "python",
   "name": "python3"
  },
  "language_info": {
   "codemirror_mode": {
    "name": "ipython",
    "version": 3
   },
   "file_extension": ".py",
   "mimetype": "text/x-python",
   "name": "python",
   "nbconvert_exporter": "python",
   "pygments_lexer": "ipython3",
   "version": "3.9.7"
  }
 },
 "nbformat": 4,
 "nbformat_minor": 5
}
