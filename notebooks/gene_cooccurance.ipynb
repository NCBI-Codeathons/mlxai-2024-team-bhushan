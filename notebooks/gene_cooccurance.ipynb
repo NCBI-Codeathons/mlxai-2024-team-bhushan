{
 "cells": [
  {
   "cell_type": "code",
   "execution_count": 1,
   "id": "b8e8588e",
   "metadata": {},
   "outputs": [
    {
     "name": "stdout",
     "output_type": "stream",
     "text": [
      "Requirement already satisfied: pandas in /Users/jooholee/opt/anaconda3/lib/python3.9/site-packages (1.3.4)\r\n",
      "Requirement already satisfied: python-dateutil>=2.7.3 in /Users/jooholee/opt/anaconda3/lib/python3.9/site-packages (from pandas) (2.8.2)\r\n",
      "Requirement already satisfied: pytz>=2017.3 in /Users/jooholee/opt/anaconda3/lib/python3.9/site-packages (from pandas) (2021.3)\r\n",
      "Requirement already satisfied: numpy>=1.17.3 in /Users/jooholee/opt/anaconda3/lib/python3.9/site-packages (from pandas) (1.20.3)\r\n",
      "Requirement already satisfied: six>=1.5 in /Users/jooholee/opt/anaconda3/lib/python3.9/site-packages (from python-dateutil>=2.7.3->pandas) (1.16.0)\r\n"
     ]
    }
   ],
   "source": [
    "!pip install pandas"
   ]
  },
  {
   "cell_type": "code",
   "execution_count": 29,
   "id": "b8876bb2",
   "metadata": {},
   "outputs": [
    {
     "data": {
      "text/html": [
       "<div>\n",
       "<style scoped>\n",
       "    .dataframe tbody tr th:only-of-type {\n",
       "        vertical-align: middle;\n",
       "    }\n",
       "\n",
       "    .dataframe tbody tr th {\n",
       "        vertical-align: top;\n",
       "    }\n",
       "\n",
       "    .dataframe thead th {\n",
       "        text-align: right;\n",
       "    }\n",
       "</style>\n",
       "<table border=\"1\" class=\"dataframe\">\n",
       "  <thead>\n",
       "    <tr style=\"text-align: right;\">\n",
       "      <th></th>\n",
       "      <th>ID</th>\n",
       "      <th>bacteria</th>\n",
       "      <th>isolate</th>\n",
       "      <th>link</th>\n",
       "      <th>Tax ID</th>\n",
       "    </tr>\n",
       "  </thead>\n",
       "  <tbody>\n",
       "    <tr>\n",
       "      <th>0</th>\n",
       "      <td>90</td>\n",
       "      <td>Bacteria;Firmicutes;Clostridia;Clostridiales;L...</td>\n",
       "      <td>NaN</td>\n",
       "      <td>https://www.genome.jp/dbget-bin/www_bfind_sub?...</td>\n",
       "      <td>NaN</td>\n",
       "    </tr>\n",
       "    <tr>\n",
       "      <th>1</th>\n",
       "      <td>90</td>\n",
       "      <td>Bacteria;Firmicutes;Clostridia;Clostridiales;L...</td>\n",
       "      <td>T02583</td>\n",
       "      <td>https://www.genome.jp/entry/gn:T02583</td>\n",
       "      <td>751585.0</td>\n",
       "    </tr>\n",
       "    <tr>\n",
       "      <th>2</th>\n",
       "      <td>90</td>\n",
       "      <td>Bacteria;Firmicutes;Clostridia;Clostridiales;L...</td>\n",
       "      <td>T02584</td>\n",
       "      <td>https://www.genome.jp/entry/gn:T02584</td>\n",
       "      <td>717962.0</td>\n",
       "    </tr>\n",
       "    <tr>\n",
       "      <th>3</th>\n",
       "      <td>90</td>\n",
       "      <td>Bacteria;Firmicutes;Clostridia;Clostridiales;L...</td>\n",
       "      <td>T07118</td>\n",
       "      <td>https://www.genome.jp/entry/gn:T07118</td>\n",
       "      <td>410072.0</td>\n",
       "    </tr>\n",
       "    <tr>\n",
       "      <th>4</th>\n",
       "      <td>90</td>\n",
       "      <td>Bacteria;Firmicutes;Clostridia;Clostridiales;L...</td>\n",
       "      <td>T07943</td>\n",
       "      <td>https://www.genome.jp/entry/gn:T07943</td>\n",
       "      <td>411474.0</td>\n",
       "    </tr>\n",
       "  </tbody>\n",
       "</table>\n",
       "</div>"
      ],
      "text/plain": [
       "   ID                                           bacteria isolate  \\\n",
       "0  90  Bacteria;Firmicutes;Clostridia;Clostridiales;L...     NaN   \n",
       "1  90  Bacteria;Firmicutes;Clostridia;Clostridiales;L...  T02583   \n",
       "2  90  Bacteria;Firmicutes;Clostridia;Clostridiales;L...  T02584   \n",
       "3  90  Bacteria;Firmicutes;Clostridia;Clostridiales;L...  T07118   \n",
       "4  90  Bacteria;Firmicutes;Clostridia;Clostridiales;L...  T07943   \n",
       "\n",
       "                                                link    Tax ID  \n",
       "0  https://www.genome.jp/dbget-bin/www_bfind_sub?...       NaN  \n",
       "1              https://www.genome.jp/entry/gn:T02583  751585.0  \n",
       "2              https://www.genome.jp/entry/gn:T02584  717962.0  \n",
       "3              https://www.genome.jp/entry/gn:T07118  410072.0  \n",
       "4              https://www.genome.jp/entry/gn:T07943  411474.0  "
      ]
     },
     "execution_count": 29,
     "metadata": {},
     "output_type": "execute_result"
    }
   ],
   "source": [
    "import pandas as pd\n",
    "\n",
    "df = pd.read_csv(\"../data/bacteria/IDB_interesting_bacteria.csv\")\n",
    "df.head()"
   ]
  },
  {
   "cell_type": "code",
   "execution_count": 55,
   "id": "b0dba6a9",
   "metadata": {},
   "outputs": [
    {
     "name": "stdout",
     "output_type": "stream",
     "text": [
      "23\n",
      "['T02583', 'T02584', 'T07118', 'T07943', 'T01387', 'T02600', 'T02601', 'T02606', 'T03158', 'T05998', 'T08490', 'T08757', 'T00835', 'T07161', 'T08965', 'T03807', 'T05838', 'T06636', 'T09392', 'T07161', 'T08965', 'T04880', 'T08068']\n"
     ]
    }
   ],
   "source": [
    "isolate_list = df.isolate.dropna().tolist()\n",
    "print(len(isolate_list))\n",
    "print(isolate_list)"
   ]
  },
  {
   "cell_type": "code",
   "execution_count": 35,
   "id": "772c7dad",
   "metadata": {},
   "outputs": [],
   "source": [
    "def split_to_pd(s):\n",
    "    lines = s.split(\"\\n\")\n",
    "    all_lines = [aline.split(\"\\t\") for aline in lines]\n",
    "    df_gene_list = pd.DataFrame(all_lines, columns=['A', 'B', 'C', 'D'])\n",
    "    return df_gene_list"
   ]
  },
  {
   "cell_type": "code",
   "execution_count": 52,
   "id": "7f8d3a13",
   "metadata": {
    "scrolled": true
   },
   "outputs": [
    {
     "name": "stdout",
     "output_type": "stream",
     "text": [
      "https://rest.kegg.jp/list/T02583 <Response [200]>\n",
      "https://rest.kegg.jp/list/T02584 <Response [200]>\n",
      "https://rest.kegg.jp/list/T07118 <Response [200]>\n",
      "https://rest.kegg.jp/list/T07943 <Response [200]>\n",
      "https://rest.kegg.jp/list/T01387 <Response [200]>\n",
      "https://rest.kegg.jp/list/T02600 <Response [200]>\n",
      "https://rest.kegg.jp/list/T02601 <Response [200]>\n",
      "https://rest.kegg.jp/list/T02606 <Response [200]>\n",
      "https://rest.kegg.jp/list/T03158 <Response [200]>\n",
      "https://rest.kegg.jp/list/T05998 <Response [200]>\n",
      "https://rest.kegg.jp/list/T08490 <Response [200]>\n",
      "https://rest.kegg.jp/list/T08757 <Response [200]>\n",
      "https://rest.kegg.jp/list/T00835 <Response [200]>\n",
      "https://rest.kegg.jp/list/T07161 <Response [200]>\n",
      "https://rest.kegg.jp/list/T08965 <Response [200]>\n",
      "https://rest.kegg.jp/list/T03807 <Response [200]>\n",
      "https://rest.kegg.jp/list/T05838 <Response [200]>\n",
      "https://rest.kegg.jp/list/T06636 <Response [200]>\n",
      "https://rest.kegg.jp/list/T09392 <Response [200]>\n",
      "https://rest.kegg.jp/list/T07161 <Response [200]>\n",
      "https://rest.kegg.jp/list/T08965 <Response [200]>\n",
      "https://rest.kegg.jp/list/T04880 <Response [200]>\n",
      "https://rest.kegg.jp/list/T08068 <Response [200]>\n"
     ]
    }
   ],
   "source": [
    "import requests\n",
    "\n",
    "all_genes_list = []\n",
    "\n",
    "# for i in isolate_list[0:2]:\n",
    "for i in isolate_list:\n",
    "    url = 'https://rest.kegg.jp/list/' + i\n",
    "    gene_list = requests.get(url)\n",
    "    print(url, gene_list)\n",
    "    all_genes_list.append(split_to_pd(gene_list.text))\n",
    "#     print(gene_list.text)\n",
    "#print(response_API.status_code)"
   ]
  },
  {
   "cell_type": "code",
   "execution_count": 53,
   "id": "265ed62a",
   "metadata": {},
   "outputs": [
    {
     "data": {
      "text/plain": [
       "23"
      ]
     },
     "execution_count": 53,
     "metadata": {},
     "output_type": "execute_result"
    }
   ],
   "source": [
    "len(all_genes_list)"
   ]
  },
  {
   "cell_type": "code",
   "execution_count": 50,
   "id": "f68d1947",
   "metadata": {},
   "outputs": [],
   "source": [
    "def find_intersect(data_1, data_2):\n",
    "    intersect = list(set(data_1) & set(data_2))\n",
    "    return intersect\n",
    "\n",
    "def find_union(data_1, data_2):\n",
    "    union = list(set(data_1) | set(data_2))\n",
    "    return union"
   ]
  },
  {
   "cell_type": "code",
   "execution_count": 67,
   "id": "f261e939",
   "metadata": {
    "scrolled": false
   },
   "outputs": [
    {
     "name": "stdout",
     "output_type": "stream",
     "text": [
      "['ACT domain-containing protein', 'trigger factor', 'glutamate-5-semialdehyde dehydrogenase', 'UDP-N-acetylglucosamine 1-carboxyvinyltransferase', \"deoxyuridine 5'-triphosphate nucleotidohydrolase\", 'argininosuccinate synthase', '2,3-bisphosphoglycerate-independent phosphoglycerate mutase', 'peptide deformylase', 'amidophosphoribosyltransferase', 'glucose-6-phosphate isomerase', 'UDP-N-acetylmuramoyl-tripeptide--D-alanyl-D-alanine ligase', 'adenine phosphoribosyltransferase', 'guanylate kinase', 'transcriptional regulator', 'adenylosuccinate lyase', 'N-acetylmuramoyl-L-alanine amidase', 'serine hydroxymethyltransferase', 'DNA gyrase subunit B', 'D-alanyl-D-alanine carboxypeptidase', 'CTP synthase', None, 'phosphoribosylformylglycinamidine synthase', '6-phosphofructokinase', 'ribose-phosphate pyrophosphokinase', 'adenylosuccinate synthase', 'cysteine desulfurase', 'dephospho-CoA kinase', 'thioredoxin', '6,7-dimethyl-8-ribityllumazine synthase', 'dihydroxy-acid dehydratase', '1-deoxy-D-xylulose-5-phosphate synthase', 'methionine adenosyltransferase', 'shikimate dehydrogenase', 'SAM-dependent methyltransferase', 'methylglyoxal synthase', 'D-tyrosyl-tRNA(Tyr) deacylase', 'threonine synthase', 'hypothetical protein', 'phosphoglucosamine mutase', 'prolipoprotein diacylglyceryl transferase', 'ammonium transporter', 'acetylglutamate kinase', 'anti-sigma F factor', 'UDP-N-acetylmuramate--L-alanine ligase']\n",
      "1 2 44\n",
      "['ACT domain-containing protein', 'glutamate-5-semialdehyde dehydrogenase', 'UDP-N-acetylglucosamine 1-carboxyvinyltransferase', 'argininosuccinate synthase', 'peptide deformylase', 'amidophosphoribosyltransferase', 'glucose-6-phosphate isomerase', 'UDP-N-acetylmuramoyl-tripeptide--D-alanyl-D-alanine ligase', 'adenine phosphoribosyltransferase', 'transcriptional regulator', 'N-acetylmuramoyl-L-alanine amidase', 'serine hydroxymethyltransferase', 'DNA gyrase subunit B', 'D-alanyl-D-alanine carboxypeptidase', 'CTP synthase', None, '6-phosphofructokinase', 'phosphoribosylformylglycinamidine synthase', 'ribose-phosphate pyrophosphokinase', 'adenylosuccinate synthase', 'cysteine desulfurase', 'thioredoxin', '1-deoxy-D-xylulose-5-phosphate synthase', 'SAM-dependent methyltransferase', 'methylglyoxal synthase', 'hypothetical protein', 'ammonium transporter']\n",
      "2 3 27\n",
      "['ACT domain-containing protein', 'SAM-dependent methyltransferase', 'UDP-N-acetylglucosamine 1-carboxyvinyltransferase', 'ribose-phosphate pyrophosphokinase', 'methylglyoxal synthase', 'argininosuccinate synthase', 'thioredoxin', 'peptide deformylase', 'hypothetical protein', 'amidophosphoribosyltransferase', 'phosphoribosylformylglycinamidine synthase', 'ammonium transporter', 'CTP synthase', None, '6-phosphofructokinase']\n",
      "3 4 15\n",
      "['ACT domain-containing protein', 'UDP-N-acetylglucosamine 1-carboxyvinyltransferase', 'methylglyoxal synthase', 'ribose-phosphate pyrophosphokinase', 'argininosuccinate synthase', 'thioredoxin', 'peptide deformylase', 'hypothetical protein', 'amidophosphoribosyltransferase', 'phosphoribosylformylglycinamidine synthase', 'ammonium transporter', 'CTP synthase', None, '6-phosphofructokinase']\n",
      "4 5 14\n",
      "['ACT domain-containing protein', 'UDP-N-acetylglucosamine 1-carboxyvinyltransferase', 'ribose-phosphate pyrophosphokinase', 'argininosuccinate synthase', 'thioredoxin', 'peptide deformylase', 'hypothetical protein', 'amidophosphoribosyltransferase', 'phosphoribosylformylglycinamidine synthase', 'ammonium transporter', 'CTP synthase', None, '6-phosphofructokinase']\n",
      "5 6 13\n",
      "['ACT domain-containing protein', 'UDP-N-acetylglucosamine 1-carboxyvinyltransferase', 'ribose-phosphate pyrophosphokinase', 'argininosuccinate synthase', 'thioredoxin', 'peptide deformylase', 'hypothetical protein', 'amidophosphoribosyltransferase', 'phosphoribosylformylglycinamidine synthase', 'ammonium transporter', 'CTP synthase', None, '6-phosphofructokinase']\n",
      "6 7 13\n",
      "[None, 'hypothetical protein']\n",
      "7 8 2\n",
      "[None, 'hypothetical protein']\n",
      "8 9 2\n",
      "[None, 'hypothetical protein']\n",
      "9 10 2\n",
      "[None, 'hypothetical protein']\n",
      "10 11 2\n",
      "[None, 'hypothetical protein']\n",
      "11 12 2\n",
      "[None, 'hypothetical protein']\n",
      "12 13 2\n",
      "[None, 'hypothetical protein']\n",
      "13 14 2\n",
      "[None, 'hypothetical protein']\n",
      "14 15 2\n",
      "[None]\n",
      "15 16 1\n",
      "[None]\n",
      "16 17 1\n",
      "[None]\n",
      "17 18 1\n",
      "[None]\n",
      "18 19 1\n",
      "[None]\n",
      "19 20 1\n",
      "[None]\n",
      "20 21 1\n",
      "[None]\n",
      "21 22 1\n"
     ]
    }
   ],
   "source": [
    "base = all_genes_list[0].D.tolist()\n",
    "\n",
    "for i in range(1, len(all_genes_list) -1):\n",
    "    temp_intersection = find_intersect(all_genes_list[i].D.tolist(), all_genes_list[i+1].D.tolist())\n",
    "\n",
    "    #     print(temp_intersection)\n",
    "    base = find_intersect(base, temp_intersection)\n",
    "    print(base)\n",
    "\n",
    "    print(i, i+1, len(base))"
   ]
  },
  {
   "cell_type": "code",
   "execution_count": null,
   "id": "31003fac",
   "metadata": {},
   "outputs": [],
   "source": []
  },
  {
   "cell_type": "code",
   "execution_count": null,
   "id": "0d8c1317",
   "metadata": {},
   "outputs": [],
   "source": []
  }
 ],
 "metadata": {
  "kernelspec": {
   "display_name": "Python 3 (ipykernel)",
   "language": "python",
   "name": "python3"
  },
  "language_info": {
   "codemirror_mode": {
    "name": "ipython",
    "version": 3
   },
   "file_extension": ".py",
   "mimetype": "text/x-python",
   "name": "python",
   "nbconvert_exporter": "python",
   "pygments_lexer": "ipython3",
   "version": "3.9.7"
  }
 },
 "nbformat": 4,
 "nbformat_minor": 5
}
